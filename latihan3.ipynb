{
 "cells": [
  {
   "cell_type": "code",
   "execution_count": null,
   "id": "3eb584bd",
   "metadata": {},
   "outputs": [],
   "source": [
    "str_numbers = \"456\"\n",
    "str_numbers_to_int = int(str_numbers)\n",
    "print(\"Before casting:\", str_numbers, \", the data type is\", type(str_numbers))\n",
    "print(\"After casting:\", str_numbers_to_int, \", the data type is\", type(str_numbers_to_int))"
   ]
  },
  {
   "cell_type": "code",
   "execution_count": null,
   "id": "24b34ff4",
   "metadata": {},
   "outputs": [],
   "source": [
    "integer = 12345\n",
    "integer_to_str = str(integer)\n",
    "print(\"Before casting:\", integer, \", the data type is\", type(integer))\n",
    "print(\"After casting:\", integer_to_str, \", the data type is\", type(integer_to_str))"
   ]
  },
  {
   "cell_type": "code",
   "execution_count": null,
   "id": "c642e9b3",
   "metadata": {},
   "outputs": [],
   "source": []
  }
 ],
 "metadata": {
  "language_info": {
   "name": "python"
  }
 },
 "nbformat": 4,
 "nbformat_minor": 5
}
